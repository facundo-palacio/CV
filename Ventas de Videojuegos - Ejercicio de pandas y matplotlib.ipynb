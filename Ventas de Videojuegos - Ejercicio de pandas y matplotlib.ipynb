{
 "cells": [
  {
   "cell_type": "markdown",
   "metadata": {},
   "source": [
    "Nota: La base de datos es simuladada y fue tomada de la siguiente dirección: https://www.kaggle.com/datasets/gregorut/videogamesales"
   ]
  },
  {
   "cell_type": "markdown",
   "metadata": {
    "id": "WZLKY4O-4zQt"
   },
   "source": [
    "# **1. Limpieza de Datos**"
   ]
  },
  {
   "cell_type": "code",
   "execution_count": 34,
   "metadata": {
    "colab": {
     "base_uri": "https://localhost:8080/"
    },
    "id": "8I8WLfmpIgDU",
    "outputId": "7cd88cea-881e-4421-cf8f-f9f93284ad80"
   },
   "outputs": [
    {
     "name": "stdout",
     "output_type": "stream",
     "text": [
      "Rank              0\n",
      "Name              0\n",
      "Platform          0\n",
      "Year            271\n",
      "Genre             0\n",
      "Publisher        58\n",
      "NA_Sales          0\n",
      "EU_Sales          0\n",
      "JP_Sales          0\n",
      "Other_Sales       0\n",
      "Global_Sales      0\n",
      "dtype: int64\n"
     ]
    }
   ],
   "source": [
    "# @title\n",
    "import pandas as pd\n",
    "\n",
    "vgsales = pd.read_csv(r'C:\\Users\\fs_or\\Documents\\Data Science\\Bases de datos\\Videogames Sales\\vgsales.csv')\n",
    "\n",
    "print((vgsales.isna()).sum())\n",
    "vgsales.shape\n",
    "\n",
    "vgsales = vgsales.dropna()"
   ]
  },
  {
   "cell_type": "code",
   "execution_count": 8,
   "metadata": {
    "id": "KW0RGmwUO7J5"
   },
   "outputs": [],
   "source": [
    "vgsales['Year'] = vgsales['Year'].astype(int)"
   ]
  },
  {
   "cell_type": "code",
   "execution_count": 9,
   "metadata": {
    "colab": {
     "base_uri": "https://localhost:8080/",
     "height": 310
    },
    "id": "4-AC1zPKOB3V",
    "outputId": "15e167b9-6433-4267-98cb-1a865ba5c669"
   },
   "outputs": [
    {
     "data": {
      "text/html": [
       "<div>\n",
       "<style scoped>\n",
       "    .dataframe tbody tr th:only-of-type {\n",
       "        vertical-align: middle;\n",
       "    }\n",
       "\n",
       "    .dataframe tbody tr th {\n",
       "        vertical-align: top;\n",
       "    }\n",
       "\n",
       "    .dataframe thead th {\n",
       "        text-align: right;\n",
       "    }\n",
       "</style>\n",
       "<table border=\"1\" class=\"dataframe\">\n",
       "  <thead>\n",
       "    <tr style=\"text-align: right;\">\n",
       "      <th></th>\n",
       "      <th>Rank</th>\n",
       "      <th>Name</th>\n",
       "      <th>Platform</th>\n",
       "      <th>Year</th>\n",
       "      <th>Genre</th>\n",
       "      <th>Publisher</th>\n",
       "      <th>NA_Sales</th>\n",
       "      <th>EU_Sales</th>\n",
       "      <th>JP_Sales</th>\n",
       "      <th>Other_Sales</th>\n",
       "      <th>Global_Sales</th>\n",
       "    </tr>\n",
       "  </thead>\n",
       "  <tbody>\n",
       "    <tr>\n",
       "      <th>0</th>\n",
       "      <td>1</td>\n",
       "      <td>Wii Sports</td>\n",
       "      <td>Wii</td>\n",
       "      <td>2006</td>\n",
       "      <td>Sports</td>\n",
       "      <td>Nintendo</td>\n",
       "      <td>41.49</td>\n",
       "      <td>29.02</td>\n",
       "      <td>3.77</td>\n",
       "      <td>8.46</td>\n",
       "      <td>82.74</td>\n",
       "    </tr>\n",
       "    <tr>\n",
       "      <th>1</th>\n",
       "      <td>2</td>\n",
       "      <td>Super Mario Bros.</td>\n",
       "      <td>NES</td>\n",
       "      <td>1985</td>\n",
       "      <td>Platform</td>\n",
       "      <td>Nintendo</td>\n",
       "      <td>29.08</td>\n",
       "      <td>3.58</td>\n",
       "      <td>6.81</td>\n",
       "      <td>0.77</td>\n",
       "      <td>40.24</td>\n",
       "    </tr>\n",
       "    <tr>\n",
       "      <th>2</th>\n",
       "      <td>3</td>\n",
       "      <td>Mario Kart Wii</td>\n",
       "      <td>Wii</td>\n",
       "      <td>2008</td>\n",
       "      <td>Racing</td>\n",
       "      <td>Nintendo</td>\n",
       "      <td>15.85</td>\n",
       "      <td>12.88</td>\n",
       "      <td>3.79</td>\n",
       "      <td>3.31</td>\n",
       "      <td>35.82</td>\n",
       "    </tr>\n",
       "    <tr>\n",
       "      <th>3</th>\n",
       "      <td>4</td>\n",
       "      <td>Wii Sports Resort</td>\n",
       "      <td>Wii</td>\n",
       "      <td>2009</td>\n",
       "      <td>Sports</td>\n",
       "      <td>Nintendo</td>\n",
       "      <td>15.75</td>\n",
       "      <td>11.01</td>\n",
       "      <td>3.28</td>\n",
       "      <td>2.96</td>\n",
       "      <td>33.00</td>\n",
       "    </tr>\n",
       "    <tr>\n",
       "      <th>4</th>\n",
       "      <td>5</td>\n",
       "      <td>Pokemon Red/Pokemon Blue</td>\n",
       "      <td>GB</td>\n",
       "      <td>1996</td>\n",
       "      <td>Role-Playing</td>\n",
       "      <td>Nintendo</td>\n",
       "      <td>11.27</td>\n",
       "      <td>8.89</td>\n",
       "      <td>10.22</td>\n",
       "      <td>1.00</td>\n",
       "      <td>31.37</td>\n",
       "    </tr>\n",
       "  </tbody>\n",
       "</table>\n",
       "</div>"
      ],
      "text/plain": [
       "   Rank                      Name Platform  Year         Genre Publisher  \\\n",
       "0     1                Wii Sports      Wii  2006        Sports  Nintendo   \n",
       "1     2         Super Mario Bros.      NES  1985      Platform  Nintendo   \n",
       "2     3            Mario Kart Wii      Wii  2008        Racing  Nintendo   \n",
       "3     4         Wii Sports Resort      Wii  2009        Sports  Nintendo   \n",
       "4     5  Pokemon Red/Pokemon Blue       GB  1996  Role-Playing  Nintendo   \n",
       "\n",
       "   NA_Sales  EU_Sales  JP_Sales  Other_Sales  Global_Sales  \n",
       "0     41.49     29.02      3.77         8.46         82.74  \n",
       "1     29.08      3.58      6.81         0.77         40.24  \n",
       "2     15.85     12.88      3.79         3.31         35.82  \n",
       "3     15.75     11.01      3.28         2.96         33.00  \n",
       "4     11.27      8.89     10.22         1.00         31.37  "
      ]
     },
     "execution_count": 9,
     "metadata": {},
     "output_type": "execute_result"
    }
   ],
   "source": [
    "vgsales.head()"
   ]
  },
  {
   "cell_type": "markdown",
   "metadata": {
    "id": "eFwRY27-fyNF"
   },
   "source": [
    "# **2. Tendencias de Ventas**"
   ]
  },
  {
   "cell_type": "markdown",
   "metadata": {
    "id": "4iwZ_pDNgb-S"
   },
   "source": [
    "## Más vendidos por año de publicación:"
   ]
  },
  {
   "cell_type": "code",
   "execution_count": 10,
   "metadata": {
    "id": "MLfF0o_ngUDj"
   },
   "outputs": [],
   "source": [
    "# @title\n",
    "#El rango temporal es entre 1980 y 2020\n",
    "#vgsales['Year'].describe()"
   ]
  },
  {
   "cell_type": "code",
   "execution_count": 11,
   "metadata": {
    "colab": {
     "base_uri": "https://localhost:8080/",
     "height": 1000
    },
    "id": "BCqFAyOtA-or",
    "outputId": "0c46f64f-90dd-4353-c792-2cd44bb1630e"
   },
   "outputs": [
    {
     "data": {
      "text/html": [
       "<div>\n",
       "<style scoped>\n",
       "    .dataframe tbody tr th:only-of-type {\n",
       "        vertical-align: middle;\n",
       "    }\n",
       "\n",
       "    .dataframe tbody tr th {\n",
       "        vertical-align: top;\n",
       "    }\n",
       "\n",
       "    .dataframe thead th {\n",
       "        text-align: right;\n",
       "    }\n",
       "</style>\n",
       "<table border=\"1\" class=\"dataframe\">\n",
       "  <thead>\n",
       "    <tr style=\"text-align: right;\">\n",
       "      <th></th>\n",
       "      <th>Name</th>\n",
       "      <th>Genre</th>\n",
       "      <th>Platform</th>\n",
       "      <th>Publisher</th>\n",
       "    </tr>\n",
       "    <tr>\n",
       "      <th>Year</th>\n",
       "      <th></th>\n",
       "      <th></th>\n",
       "      <th></th>\n",
       "      <th></th>\n",
       "    </tr>\n",
       "  </thead>\n",
       "  <tbody>\n",
       "    <tr>\n",
       "      <th>1980</th>\n",
       "      <td>Asteroids</td>\n",
       "      <td>Shooter</td>\n",
       "      <td>2600</td>\n",
       "      <td>Atari</td>\n",
       "    </tr>\n",
       "    <tr>\n",
       "      <th>1981</th>\n",
       "      <td>Pitfall!</td>\n",
       "      <td>Platform</td>\n",
       "      <td>2600</td>\n",
       "      <td>Activision</td>\n",
       "    </tr>\n",
       "    <tr>\n",
       "      <th>1982</th>\n",
       "      <td>Pac-Man</td>\n",
       "      <td>Puzzle</td>\n",
       "      <td>2600</td>\n",
       "      <td>Atari</td>\n",
       "    </tr>\n",
       "    <tr>\n",
       "      <th>1983</th>\n",
       "      <td>Baseball</td>\n",
       "      <td>Sports</td>\n",
       "      <td>NES</td>\n",
       "      <td>Nintendo</td>\n",
       "    </tr>\n",
       "    <tr>\n",
       "      <th>1984</th>\n",
       "      <td>Duck Hunt</td>\n",
       "      <td>Shooter</td>\n",
       "      <td>NES</td>\n",
       "      <td>Nintendo</td>\n",
       "    </tr>\n",
       "    <tr>\n",
       "      <th>1985</th>\n",
       "      <td>Super Mario Bros.</td>\n",
       "      <td>Platform</td>\n",
       "      <td>NES</td>\n",
       "      <td>Nintendo</td>\n",
       "    </tr>\n",
       "    <tr>\n",
       "      <th>1986</th>\n",
       "      <td>The Legend of Zelda</td>\n",
       "      <td>Action</td>\n",
       "      <td>NES</td>\n",
       "      <td>Nintendo</td>\n",
       "    </tr>\n",
       "    <tr>\n",
       "      <th>1987</th>\n",
       "      <td>Zelda II: The Adventure of Link</td>\n",
       "      <td>Adventure</td>\n",
       "      <td>NES</td>\n",
       "      <td>Nintendo</td>\n",
       "    </tr>\n",
       "    <tr>\n",
       "      <th>1988</th>\n",
       "      <td>Super Mario Bros. 3</td>\n",
       "      <td>Platform</td>\n",
       "      <td>NES</td>\n",
       "      <td>Nintendo</td>\n",
       "    </tr>\n",
       "    <tr>\n",
       "      <th>1989</th>\n",
       "      <td>Tetris</td>\n",
       "      <td>Puzzle</td>\n",
       "      <td>GB</td>\n",
       "      <td>Nintendo</td>\n",
       "    </tr>\n",
       "    <tr>\n",
       "      <th>1990</th>\n",
       "      <td>Super Mario World</td>\n",
       "      <td>Platform</td>\n",
       "      <td>SNES</td>\n",
       "      <td>Nintendo</td>\n",
       "    </tr>\n",
       "    <tr>\n",
       "      <th>1991</th>\n",
       "      <td>The Legend of Zelda: A Link to the Past</td>\n",
       "      <td>Action</td>\n",
       "      <td>SNES</td>\n",
       "      <td>Nintendo</td>\n",
       "    </tr>\n",
       "    <tr>\n",
       "      <th>1992</th>\n",
       "      <td>Super Mario Land 2: 6 Golden Coins</td>\n",
       "      <td>Adventure</td>\n",
       "      <td>GB</td>\n",
       "      <td>Nintendo</td>\n",
       "    </tr>\n",
       "    <tr>\n",
       "      <th>1993</th>\n",
       "      <td>Super Mario All-Stars</td>\n",
       "      <td>Platform</td>\n",
       "      <td>SNES</td>\n",
       "      <td>Nintendo</td>\n",
       "    </tr>\n",
       "    <tr>\n",
       "      <th>1994</th>\n",
       "      <td>Donkey Kong Country</td>\n",
       "      <td>Platform</td>\n",
       "      <td>SNES</td>\n",
       "      <td>Nintendo</td>\n",
       "    </tr>\n",
       "    <tr>\n",
       "      <th>1995</th>\n",
       "      <td>Donkey Kong Country 2: Diddy's Kong Quest</td>\n",
       "      <td>Platform</td>\n",
       "      <td>SNES</td>\n",
       "      <td>Nintendo</td>\n",
       "    </tr>\n",
       "    <tr>\n",
       "      <th>1996</th>\n",
       "      <td>Pokemon Red/Pokemon Blue</td>\n",
       "      <td>Role-Playing</td>\n",
       "      <td>GB</td>\n",
       "      <td>Nintendo</td>\n",
       "    </tr>\n",
       "    <tr>\n",
       "      <th>1997</th>\n",
       "      <td>Gran Turismo</td>\n",
       "      <td>Racing</td>\n",
       "      <td>PS</td>\n",
       "      <td>Sony Computer Entertainment</td>\n",
       "    </tr>\n",
       "    <tr>\n",
       "      <th>1998</th>\n",
       "      <td>Pokémon Yellow: Special Pikachu Edition</td>\n",
       "      <td>Role-Playing</td>\n",
       "      <td>GB</td>\n",
       "      <td>Nintendo</td>\n",
       "    </tr>\n",
       "    <tr>\n",
       "      <th>1999</th>\n",
       "      <td>Pokemon Gold/Pokemon Silver</td>\n",
       "      <td>Role-Playing</td>\n",
       "      <td>GB</td>\n",
       "      <td>Nintendo</td>\n",
       "    </tr>\n",
       "    <tr>\n",
       "      <th>2000</th>\n",
       "      <td>Pokémon Crystal Version</td>\n",
       "      <td>Role-Playing</td>\n",
       "      <td>GB</td>\n",
       "      <td>Nintendo</td>\n",
       "    </tr>\n",
       "    <tr>\n",
       "      <th>2001</th>\n",
       "      <td>Gran Turismo 3: A-Spec</td>\n",
       "      <td>Racing</td>\n",
       "      <td>PS2</td>\n",
       "      <td>Sony Computer Entertainment</td>\n",
       "    </tr>\n",
       "    <tr>\n",
       "      <th>2002</th>\n",
       "      <td>Grand Theft Auto: Vice City</td>\n",
       "      <td>Action</td>\n",
       "      <td>PS2</td>\n",
       "      <td>Take-Two Interactive</td>\n",
       "    </tr>\n",
       "    <tr>\n",
       "      <th>2003</th>\n",
       "      <td>Need for Speed Underground</td>\n",
       "      <td>Racing</td>\n",
       "      <td>PS2</td>\n",
       "      <td>Electronic Arts</td>\n",
       "    </tr>\n",
       "    <tr>\n",
       "      <th>2004</th>\n",
       "      <td>Grand Theft Auto: San Andreas</td>\n",
       "      <td>Action</td>\n",
       "      <td>PS2</td>\n",
       "      <td>Take-Two Interactive</td>\n",
       "    </tr>\n",
       "    <tr>\n",
       "      <th>2005</th>\n",
       "      <td>Nintendogs</td>\n",
       "      <td>Simulation</td>\n",
       "      <td>DS</td>\n",
       "      <td>Nintendo</td>\n",
       "    </tr>\n",
       "    <tr>\n",
       "      <th>2006</th>\n",
       "      <td>Wii Sports</td>\n",
       "      <td>Sports</td>\n",
       "      <td>Wii</td>\n",
       "      <td>Nintendo</td>\n",
       "    </tr>\n",
       "    <tr>\n",
       "      <th>2007</th>\n",
       "      <td>Wii Fit</td>\n",
       "      <td>Sports</td>\n",
       "      <td>Wii</td>\n",
       "      <td>Nintendo</td>\n",
       "    </tr>\n",
       "    <tr>\n",
       "      <th>2008</th>\n",
       "      <td>Mario Kart Wii</td>\n",
       "      <td>Racing</td>\n",
       "      <td>Wii</td>\n",
       "      <td>Nintendo</td>\n",
       "    </tr>\n",
       "    <tr>\n",
       "      <th>2009</th>\n",
       "      <td>Wii Sports Resort</td>\n",
       "      <td>Sports</td>\n",
       "      <td>Wii</td>\n",
       "      <td>Nintendo</td>\n",
       "    </tr>\n",
       "    <tr>\n",
       "      <th>2010</th>\n",
       "      <td>Kinect Adventures!</td>\n",
       "      <td>Misc</td>\n",
       "      <td>X360</td>\n",
       "      <td>Microsoft Game Studios</td>\n",
       "    </tr>\n",
       "    <tr>\n",
       "      <th>2011</th>\n",
       "      <td>Call of Duty: Modern Warfare 3</td>\n",
       "      <td>Shooter</td>\n",
       "      <td>X360</td>\n",
       "      <td>Activision</td>\n",
       "    </tr>\n",
       "    <tr>\n",
       "      <th>2012</th>\n",
       "      <td>Call of Duty: Black Ops II</td>\n",
       "      <td>Shooter</td>\n",
       "      <td>PS3</td>\n",
       "      <td>Activision</td>\n",
       "    </tr>\n",
       "    <tr>\n",
       "      <th>2013</th>\n",
       "      <td>Grand Theft Auto V</td>\n",
       "      <td>Action</td>\n",
       "      <td>PS3</td>\n",
       "      <td>Take-Two Interactive</td>\n",
       "    </tr>\n",
       "    <tr>\n",
       "      <th>2014</th>\n",
       "      <td>Grand Theft Auto V</td>\n",
       "      <td>Action</td>\n",
       "      <td>PS4</td>\n",
       "      <td>Take-Two Interactive</td>\n",
       "    </tr>\n",
       "    <tr>\n",
       "      <th>2015</th>\n",
       "      <td>Call of Duty: Black Ops 3</td>\n",
       "      <td>Shooter</td>\n",
       "      <td>PS4</td>\n",
       "      <td>Activision</td>\n",
       "    </tr>\n",
       "    <tr>\n",
       "      <th>2016</th>\n",
       "      <td>FIFA 17</td>\n",
       "      <td>Sports</td>\n",
       "      <td>PS4</td>\n",
       "      <td>Electronic Arts</td>\n",
       "    </tr>\n",
       "    <tr>\n",
       "      <th>2017</th>\n",
       "      <td>Phantasy Star Online 2 Episode 4: Deluxe Package</td>\n",
       "      <td>Role-Playing</td>\n",
       "      <td>PS4</td>\n",
       "      <td>Sega</td>\n",
       "    </tr>\n",
       "    <tr>\n",
       "      <th>2006</th>\n",
       "      <td>Wii Sports</td>\n",
       "      <td>Sports</td>\n",
       "      <td>Wii</td>\n",
       "      <td>Nintendo</td>\n",
       "    </tr>\n",
       "    <tr>\n",
       "      <th>2006</th>\n",
       "      <td>Wii Sports</td>\n",
       "      <td>Sports</td>\n",
       "      <td>Wii</td>\n",
       "      <td>Nintendo</td>\n",
       "    </tr>\n",
       "    <tr>\n",
       "      <th>2020</th>\n",
       "      <td>Imagine: Makeup Artist</td>\n",
       "      <td>Simulation</td>\n",
       "      <td>DS</td>\n",
       "      <td>Ubisoft</td>\n",
       "    </tr>\n",
       "  </tbody>\n",
       "</table>\n",
       "</div>"
      ],
      "text/plain": [
       "                                                  Name         Genre Platform  \\\n",
       "Year                                                                            \n",
       "1980                                         Asteroids       Shooter     2600   \n",
       "1981                                          Pitfall!      Platform     2600   \n",
       "1982                                           Pac-Man        Puzzle     2600   \n",
       "1983                                          Baseball        Sports      NES   \n",
       "1984                                         Duck Hunt       Shooter      NES   \n",
       "1985                                 Super Mario Bros.      Platform      NES   \n",
       "1986                               The Legend of Zelda        Action      NES   \n",
       "1987                   Zelda II: The Adventure of Link     Adventure      NES   \n",
       "1988                               Super Mario Bros. 3      Platform      NES   \n",
       "1989                                            Tetris        Puzzle       GB   \n",
       "1990                                 Super Mario World      Platform     SNES   \n",
       "1991           The Legend of Zelda: A Link to the Past        Action     SNES   \n",
       "1992                Super Mario Land 2: 6 Golden Coins     Adventure       GB   \n",
       "1993                             Super Mario All-Stars      Platform     SNES   \n",
       "1994                               Donkey Kong Country      Platform     SNES   \n",
       "1995         Donkey Kong Country 2: Diddy's Kong Quest      Platform     SNES   \n",
       "1996                          Pokemon Red/Pokemon Blue  Role-Playing       GB   \n",
       "1997                                      Gran Turismo        Racing       PS   \n",
       "1998           Pokémon Yellow: Special Pikachu Edition  Role-Playing       GB   \n",
       "1999                       Pokemon Gold/Pokemon Silver  Role-Playing       GB   \n",
       "2000                           Pokémon Crystal Version  Role-Playing       GB   \n",
       "2001                            Gran Turismo 3: A-Spec        Racing      PS2   \n",
       "2002                       Grand Theft Auto: Vice City        Action      PS2   \n",
       "2003                        Need for Speed Underground        Racing      PS2   \n",
       "2004                     Grand Theft Auto: San Andreas        Action      PS2   \n",
       "2005                                        Nintendogs    Simulation       DS   \n",
       "2006                                        Wii Sports        Sports      Wii   \n",
       "2007                                           Wii Fit        Sports      Wii   \n",
       "2008                                    Mario Kart Wii        Racing      Wii   \n",
       "2009                                 Wii Sports Resort        Sports      Wii   \n",
       "2010                                Kinect Adventures!          Misc     X360   \n",
       "2011                    Call of Duty: Modern Warfare 3       Shooter     X360   \n",
       "2012                        Call of Duty: Black Ops II       Shooter      PS3   \n",
       "2013                                Grand Theft Auto V        Action      PS3   \n",
       "2014                                Grand Theft Auto V        Action      PS4   \n",
       "2015                         Call of Duty: Black Ops 3       Shooter      PS4   \n",
       "2016                                           FIFA 17        Sports      PS4   \n",
       "2017  Phantasy Star Online 2 Episode 4: Deluxe Package  Role-Playing      PS4   \n",
       "2006                                        Wii Sports        Sports      Wii   \n",
       "2006                                        Wii Sports        Sports      Wii   \n",
       "2020                            Imagine: Makeup Artist    Simulation       DS   \n",
       "\n",
       "                        Publisher  \n",
       "Year                               \n",
       "1980                        Atari  \n",
       "1981                   Activision  \n",
       "1982                        Atari  \n",
       "1983                     Nintendo  \n",
       "1984                     Nintendo  \n",
       "1985                     Nintendo  \n",
       "1986                     Nintendo  \n",
       "1987                     Nintendo  \n",
       "1988                     Nintendo  \n",
       "1989                     Nintendo  \n",
       "1990                     Nintendo  \n",
       "1991                     Nintendo  \n",
       "1992                     Nintendo  \n",
       "1993                     Nintendo  \n",
       "1994                     Nintendo  \n",
       "1995                     Nintendo  \n",
       "1996                     Nintendo  \n",
       "1997  Sony Computer Entertainment  \n",
       "1998                     Nintendo  \n",
       "1999                     Nintendo  \n",
       "2000                     Nintendo  \n",
       "2001  Sony Computer Entertainment  \n",
       "2002         Take-Two Interactive  \n",
       "2003              Electronic Arts  \n",
       "2004         Take-Two Interactive  \n",
       "2005                     Nintendo  \n",
       "2006                     Nintendo  \n",
       "2007                     Nintendo  \n",
       "2008                     Nintendo  \n",
       "2009                     Nintendo  \n",
       "2010       Microsoft Game Studios  \n",
       "2011                   Activision  \n",
       "2012                   Activision  \n",
       "2013         Take-Two Interactive  \n",
       "2014         Take-Two Interactive  \n",
       "2015                   Activision  \n",
       "2016              Electronic Arts  \n",
       "2017                         Sega  \n",
       "2006                     Nintendo  \n",
       "2006                     Nintendo  \n",
       "2020                      Ubisoft  "
      ]
     },
     "execution_count": 11,
     "metadata": {},
     "output_type": "execute_result"
    }
   ],
   "source": [
    "# @title\n",
    "year = vgsales['Year']\n",
    "\n",
    "best_per_year = []\n",
    "\n",
    "for y in range(1980,2021):\n",
    "  year_top = vgsales.loc[(year == y).idxmax(), ['Name', 'Year', 'Genre','Platform','Publisher']]\n",
    "  best_per_year.append(year_top)\n",
    "\n",
    "ind = range(1,len(best_per_year)+1)\n",
    "\n",
    "best_per_year = pd.DataFrame(best_per_year)\n",
    "\n",
    "best_per_year.set_index('Year')\n"
   ]
  },
  {
   "cell_type": "markdown",
   "metadata": {
    "id": "KSbek87JP3fy"
   },
   "source": [
    "# **3. Análisis por plataforma**"
   ]
  },
  {
   "cell_type": "code",
   "execution_count": 12,
   "metadata": {
    "colab": {
     "base_uri": "https://localhost:8080/",
     "height": 472
    },
    "id": "YMMtzV6oIKfj",
    "outputId": "d210d07b-c1ef-4085-b1de-b53e441ecc3f"
   },
   "outputs": [
    {
     "data": {
      "image/png": "[encoded data removed]",
      "text/plain": [
       "<Figure size 640x480 with 1 Axes>"
      ]
     },
     "metadata": {},
     "output_type": "display_data"
    }
   ],
   "source": [
    "# @title\n",
    "import matplotlib.pyplot as plt\n",
    "\n",
    "x = []\n",
    "l = []\n",
    "for p in vgsales['Platform'].unique():\n",
    "    x.append((vgsales.loc[vgsales['Platform'] == p,'Global_Sales']).sum())\n",
    "    l.append(p)\n",
    "\n",
    "\n",
    "\n",
    "\n",
    "plt.barh(l, x, align='center')\n",
    "plt.ylabel('Platformas')\n",
    "plt.xlabel('Ventas Totales')\n",
    "plt.title('Plataformas más vendidas')\n",
    "plt.show()\n"
   ]
  },
  {
   "cell_type": "markdown",
   "metadata": {
    "id": "EQlCfil3_9eX"
   },
   "source": [
    "# Ventas de PS2, PS3 y Xbox360"
   ]
  },
  {
   "cell_type": "code",
   "execution_count": 13,
   "metadata": {
    "cellView": "form",
    "colab": {
     "base_uri": "https://localhost:8080/",
     "height": 472
    },
    "id": "i6jzOrMNvIVg",
    "outputId": "de335dd0-9cea-4249-f045-55b295286014"
   },
   "outputs": [
    {
     "data": {
      "image/png": "[encoded data removed]",
      "text/plain": [
       "<Figure size 640x480 with 1 Axes>"
      ]
     },
     "metadata": {},
     "output_type": "display_data"
    }
   ],
   "source": [
    "# @title\n",
    "def get_platform(platform):\n",
    "  temp = vgsales.loc[vgsales['Platform'] == platform, :]\n",
    "  temp = temp.sort_values(by='Year')\n",
    "  temp = temp.groupby('Year').sum('Global_Sales')\n",
    "  return temp\n",
    "\n",
    "ps2 = get_platform('PS2')\n",
    "ps3 = get_platform('PS3')\n",
    "x360 = get_platform('X360')\n",
    "\n",
    "w = ps2.index\n",
    "x = ps2['Global_Sales']\n",
    "y = ps3.index\n",
    "z = ps3['Global_Sales']\n",
    "a = x360.index\n",
    "b = x360['Global_Sales']\n",
    "\n",
    "plt.plot(w,x, label='PS2')\n",
    "plt.plot(y,z, label='PS3')\n",
    "plt.plot(a,b, label='Xbox360')\n",
    "\n",
    "plt.xlabel('Años')\n",
    "plt.ylabel('Ventas Globales ')\n",
    "plt.title('Ventas globales de PS2, PS3 y Xbox360')\n",
    "plt.legend()\n",
    "plt.show()\n"
   ]
  },
  {
   "cell_type": "markdown",
   "metadata": {
    "id": "fD1VQ_lJ7A5g"
   },
   "source": [
    "## Generos más vendidos por consola:"
   ]
  },
  {
   "cell_type": "code",
   "execution_count": 14,
   "metadata": {
    "colab": {
     "base_uri": "https://localhost:8080/",
     "height": 1000
    },
    "id": "efg7BvE2DR5e",
    "outputId": "9c48c79f-ce14-4580-fc0a-1a35b51700f1"
   },
   "outputs": [
    {
     "data": {
      "text/html": [
       "<div>\n",
       "<style scoped>\n",
       "    .dataframe tbody tr th:only-of-type {\n",
       "        vertical-align: middle;\n",
       "    }\n",
       "\n",
       "    .dataframe tbody tr th {\n",
       "        vertical-align: top;\n",
       "    }\n",
       "\n",
       "    .dataframe thead th {\n",
       "        text-align: right;\n",
       "    }\n",
       "</style>\n",
       "<table border=\"1\" class=\"dataframe\">\n",
       "  <thead>\n",
       "    <tr style=\"text-align: right;\">\n",
       "      <th></th>\n",
       "      <th>Genre</th>\n",
       "      <th>Sales</th>\n",
       "    </tr>\n",
       "  </thead>\n",
       "  <tbody>\n",
       "    <tr>\n",
       "      <th>PS3</th>\n",
       "      <td>Action</td>\n",
       "      <td>304.02</td>\n",
       "    </tr>\n",
       "    <tr>\n",
       "      <th>Wii</th>\n",
       "      <td>Sports</td>\n",
       "      <td>289.95</td>\n",
       "    </tr>\n",
       "    <tr>\n",
       "      <th>X360</th>\n",
       "      <td>Shooter</td>\n",
       "      <td>277.23</td>\n",
       "    </tr>\n",
       "    <tr>\n",
       "      <th>PS2</th>\n",
       "      <td>Action</td>\n",
       "      <td>272.43</td>\n",
       "    </tr>\n",
       "    <tr>\n",
       "      <th>DS</th>\n",
       "      <td>Misc</td>\n",
       "      <td>137.67</td>\n",
       "    </tr>\n",
       "    <tr>\n",
       "      <th>PS</th>\n",
       "      <td>Action</td>\n",
       "      <td>125.74</td>\n",
       "    </tr>\n",
       "    <tr>\n",
       "      <th>NES</th>\n",
       "      <td>Platform</td>\n",
       "      <td>95.78</td>\n",
       "    </tr>\n",
       "    <tr>\n",
       "      <th>GB</th>\n",
       "      <td>Role-Playing</td>\n",
       "      <td>88.24</td>\n",
       "    </tr>\n",
       "    <tr>\n",
       "      <th>PS4</th>\n",
       "      <td>Action</td>\n",
       "      <td>87.06</td>\n",
       "    </tr>\n",
       "    <tr>\n",
       "      <th>GBA</th>\n",
       "      <td>Platform</td>\n",
       "      <td>78.08</td>\n",
       "    </tr>\n",
       "    <tr>\n",
       "      <th>3DS</th>\n",
       "      <td>Role-Playing</td>\n",
       "      <td>75.71</td>\n",
       "    </tr>\n",
       "    <tr>\n",
       "      <th>SNES</th>\n",
       "      <td>Platform</td>\n",
       "      <td>65.65</td>\n",
       "    </tr>\n",
       "    <tr>\n",
       "      <th>PSP</th>\n",
       "      <td>Action</td>\n",
       "      <td>62.66</td>\n",
       "    </tr>\n",
       "    <tr>\n",
       "      <th>XB</th>\n",
       "      <td>Shooter</td>\n",
       "      <td>62.12</td>\n",
       "    </tr>\n",
       "    <tr>\n",
       "      <th>PC</th>\n",
       "      <td>Simulation</td>\n",
       "      <td>51.73</td>\n",
       "    </tr>\n",
       "    <tr>\n",
       "      <th>XOne</th>\n",
       "      <td>Shooter</td>\n",
       "      <td>51.61</td>\n",
       "    </tr>\n",
       "    <tr>\n",
       "      <th>N64</th>\n",
       "      <td>Racing</td>\n",
       "      <td>40.09</td>\n",
       "    </tr>\n",
       "    <tr>\n",
       "      <th>GC</th>\n",
       "      <td>Action</td>\n",
       "      <td>37.25</td>\n",
       "    </tr>\n",
       "    <tr>\n",
       "      <th>2600</th>\n",
       "      <td>Action</td>\n",
       "      <td>26.39</td>\n",
       "    </tr>\n",
       "    <tr>\n",
       "      <th>WiiU</th>\n",
       "      <td>Platform</td>\n",
       "      <td>21.24</td>\n",
       "    </tr>\n",
       "    <tr>\n",
       "      <th>PSV</th>\n",
       "      <td>Action</td>\n",
       "      <td>20.00</td>\n",
       "    </tr>\n",
       "    <tr>\n",
       "      <th>GEN</th>\n",
       "      <td>Platform</td>\n",
       "      <td>15.45</td>\n",
       "    </tr>\n",
       "    <tr>\n",
       "      <th>SAT</th>\n",
       "      <td>Fighting</td>\n",
       "      <td>8.52</td>\n",
       "    </tr>\n",
       "    <tr>\n",
       "      <th>DC</th>\n",
       "      <td>Sports</td>\n",
       "      <td>3.66</td>\n",
       "    </tr>\n",
       "    <tr>\n",
       "      <th>SCD</th>\n",
       "      <td>Platform</td>\n",
       "      <td>1.50</td>\n",
       "    </tr>\n",
       "    <tr>\n",
       "      <th>NG</th>\n",
       "      <td>Fighting</td>\n",
       "      <td>1.42</td>\n",
       "    </tr>\n",
       "    <tr>\n",
       "      <th>WS</th>\n",
       "      <td>Role-Playing</td>\n",
       "      <td>1.22</td>\n",
       "    </tr>\n",
       "    <tr>\n",
       "      <th>TG16</th>\n",
       "      <td>Adventure</td>\n",
       "      <td>0.14</td>\n",
       "    </tr>\n",
       "    <tr>\n",
       "      <th>3DO</th>\n",
       "      <td>Adventure</td>\n",
       "      <td>0.06</td>\n",
       "    </tr>\n",
       "    <tr>\n",
       "      <th>GG</th>\n",
       "      <td>Platform</td>\n",
       "      <td>0.04</td>\n",
       "    </tr>\n",
       "    <tr>\n",
       "      <th>PCFX</th>\n",
       "      <td>Role-Playing</td>\n",
       "      <td>0.03</td>\n",
       "    </tr>\n",
       "  </tbody>\n",
       "</table>\n",
       "</div>"
      ],
      "text/plain": [
       "             Genre   Sales\n",
       "PS3         Action  304.02\n",
       "Wii         Sports  289.95\n",
       "X360       Shooter  277.23\n",
       "PS2         Action  272.43\n",
       "DS            Misc  137.67\n",
       "PS          Action  125.74\n",
       "NES       Platform   95.78\n",
       "GB    Role-Playing   88.24\n",
       "PS4         Action   87.06\n",
       "GBA       Platform   78.08\n",
       "3DS   Role-Playing   75.71\n",
       "SNES      Platform   65.65\n",
       "PSP         Action   62.66\n",
       "XB         Shooter   62.12\n",
       "PC      Simulation   51.73\n",
       "XOne       Shooter   51.61\n",
       "N64         Racing   40.09\n",
       "GC          Action   37.25\n",
       "2600        Action   26.39\n",
       "WiiU      Platform   21.24\n",
       "PSV         Action   20.00\n",
       "GEN       Platform   15.45\n",
       "SAT       Fighting    8.52\n",
       "DC          Sports    3.66\n",
       "SCD       Platform    1.50\n",
       "NG        Fighting    1.42\n",
       "WS    Role-Playing    1.22\n",
       "TG16     Adventure    0.14\n",
       "3DO      Adventure    0.06\n",
       "GG        Platform    0.04\n",
       "PCFX  Role-Playing    0.03"
      ]
     },
     "execution_count": 14,
     "metadata": {},
     "output_type": "execute_result"
    }
   ],
   "source": [
    "# @title\n",
    "# El operador \"\"&\"\" tiene mayor precedencia que \"==\" !!!!!!!!!!!\n",
    "\n",
    "\n",
    "def most_selled_genre(platform):\n",
    "    genres = vgsales['Genre'].unique()\n",
    "    temp = []\n",
    "    for g in genres:\n",
    "        temp.append(vgsales.loc[(vgsales['Platform'] == platform)&(vgsales['Genre'] == g), 'Global_Sales'].sum())\n",
    "    res = [genres[temp.index(max(temp))], max(temp)]\n",
    "    return res\n",
    "\n",
    "plat_genre = [ ]\n",
    "for p in vgsales['Platform'].unique():\n",
    "    plat_genre.append(most_selled_genre(p))\n",
    "\n",
    "plat_genre_sales = pd.DataFrame(plat_genre, index = vgsales['Platform'].unique(), columns=['Genre','Sales'])\n",
    "plat_genre_sales = plat_genre_sales.sort_values(by='Sales',ascending=False)\n",
    "plat_genre_sales\n",
    "\n"
   ]
  },
  {
   "cell_type": "markdown",
   "metadata": {
    "id": "dKd7cPAqEYHu"
   },
   "source": [
    "# **4.Análisis por género**"
   ]
  },
  {
   "cell_type": "code",
   "execution_count": 15,
   "metadata": {
    "colab": {
     "base_uri": "https://localhost:8080/",
     "height": 492
    },
    "id": "nHzKAM-brmJV",
    "outputId": "d8b7fe7c-591d-453d-fb58-0ea428e8fa55"
   },
   "outputs": [
    {
     "data": {
      "text/plain": [
       "Genre\n",
       "Action          1722.84\n",
       "Sports          1309.24\n",
       "Shooter         1026.20\n",
       "Role-Playing     923.83\n",
       "Platform         829.13\n",
       "Misc             789.87\n",
       "Racing           726.76\n",
       "Fighting         444.05\n",
       "Simulation       389.98\n",
       "Puzzle           242.21\n",
       "Adventure        234.59\n",
       "Strategy         173.27\n",
       "Name: Global_Sales, dtype: float64"
      ]
     },
     "execution_count": 15,
     "metadata": {},
     "output_type": "execute_result"
    }
   ],
   "source": [
    "by_genre = vgsales.groupby('Genre')['Global_Sales'].sum()\n",
    "by_genre = by_genre.sort_values(ascending=False)\n",
    "by_genre"
   ]
  },
  {
   "cell_type": "code",
   "execution_count": 16,
   "metadata": {
    "colab": {
     "base_uri": "https://localhost:8080/",
     "height": 406
    },
    "id": "B7ss8Gp6Titn",
    "outputId": "de28f0b5-7eb7-4838-9e93-1282d2aa878c"
   },
   "outputs": [
    {
     "data": {
      "image/png": "[encoded data removed]",
      "text/plain": [
       "<Figure size 640x480 with 1 Axes>"
      ]
     },
     "metadata": {},
     "output_type": "display_data"
    }
   ],
   "source": [
    "x = by_genre\n",
    "l = by_genre.index\n",
    "plt.pie(x,labels=l)\n",
    "plt.show()"
   ]
  },
  {
   "cell_type": "markdown",
   "metadata": {
    "id": "z5wuSqSJJBsZ"
   },
   "source": [
    "# **5.Análisis Regional**"
   ]
  },
  {
   "cell_type": "markdown",
   "metadata": {
    "id": "hwEAOFSjJpMY"
   },
   "source": [
    "## Top 5 Vendidos en Europa"
   ]
  },
  {
   "cell_type": "code",
   "execution_count": 17,
   "metadata": {
    "colab": {
     "base_uri": "https://localhost:8080/",
     "height": 206
    },
    "id": "pXjoQVeb1ymX",
    "outputId": "8e8289d5-84e1-4bfb-c11b-48f288248b79"
   },
   "outputs": [
    {
     "data": {
      "text/html": [
       "<div>\n",
       "<style scoped>\n",
       "    .dataframe tbody tr th:only-of-type {\n",
       "        vertical-align: middle;\n",
       "    }\n",
       "\n",
       "    .dataframe tbody tr th {\n",
       "        vertical-align: top;\n",
       "    }\n",
       "\n",
       "    .dataframe thead th {\n",
       "        text-align: right;\n",
       "    }\n",
       "</style>\n",
       "<table border=\"1\" class=\"dataframe\">\n",
       "  <thead>\n",
       "    <tr style=\"text-align: right;\">\n",
       "      <th></th>\n",
       "      <th>Name</th>\n",
       "      <th>Platform</th>\n",
       "      <th>Year</th>\n",
       "      <th>Genre</th>\n",
       "      <th>Publisher</th>\n",
       "      <th>EU_Sales</th>\n",
       "    </tr>\n",
       "  </thead>\n",
       "  <tbody>\n",
       "    <tr>\n",
       "      <th>1</th>\n",
       "      <td>Wii Sports</td>\n",
       "      <td>Wii</td>\n",
       "      <td>2006</td>\n",
       "      <td>Sports</td>\n",
       "      <td>Nintendo</td>\n",
       "      <td>29.02</td>\n",
       "    </tr>\n",
       "    <tr>\n",
       "      <th>2</th>\n",
       "      <td>Mario Kart Wii</td>\n",
       "      <td>Wii</td>\n",
       "      <td>2008</td>\n",
       "      <td>Racing</td>\n",
       "      <td>Nintendo</td>\n",
       "      <td>12.88</td>\n",
       "    </tr>\n",
       "    <tr>\n",
       "      <th>3</th>\n",
       "      <td>Wii Sports Resort</td>\n",
       "      <td>Wii</td>\n",
       "      <td>2009</td>\n",
       "      <td>Sports</td>\n",
       "      <td>Nintendo</td>\n",
       "      <td>11.01</td>\n",
       "    </tr>\n",
       "    <tr>\n",
       "      <th>4</th>\n",
       "      <td>Nintendogs</td>\n",
       "      <td>DS</td>\n",
       "      <td>2005</td>\n",
       "      <td>Simulation</td>\n",
       "      <td>Nintendo</td>\n",
       "      <td>11.00</td>\n",
       "    </tr>\n",
       "    <tr>\n",
       "      <th>5</th>\n",
       "      <td>Grand Theft Auto V</td>\n",
       "      <td>PS3</td>\n",
       "      <td>2013</td>\n",
       "      <td>Action</td>\n",
       "      <td>Take-Two Interactive</td>\n",
       "      <td>9.27</td>\n",
       "    </tr>\n",
       "  </tbody>\n",
       "</table>\n",
       "</div>"
      ],
      "text/plain": [
       "                 Name Platform  Year       Genre             Publisher  \\\n",
       "1          Wii Sports      Wii  2006      Sports              Nintendo   \n",
       "2      Mario Kart Wii      Wii  2008      Racing              Nintendo   \n",
       "3   Wii Sports Resort      Wii  2009      Sports              Nintendo   \n",
       "4          Nintendogs       DS  2005  Simulation              Nintendo   \n",
       "5  Grand Theft Auto V      PS3  2013      Action  Take-Two Interactive   \n",
       "\n",
       "   EU_Sales  \n",
       "1     29.02  \n",
       "2     12.88  \n",
       "3     11.01  \n",
       "4     11.00  \n",
       "5      9.27  "
      ]
     },
     "execution_count": 17,
     "metadata": {},
     "output_type": "execute_result"
    }
   ],
   "source": [
    "def top5_region(region):\n",
    "    temp = vgsales.sort_values(by= region, ascending=False, ignore_index=True)\n",
    "    temp = temp.loc[:,['Name','Platform','Year','Genre','Publisher',region]]\n",
    "    temp = temp[0:5]\n",
    "    indice = range(1,6)\n",
    "    temp.index = indice\n",
    "    return temp\n",
    "\n",
    "top5eu = top5_region('EU_Sales')\n",
    "top5eu"
   ]
  },
  {
   "cell_type": "markdown",
   "metadata": {
    "id": "nhdMciP-L7wA"
   },
   "source": [
    "## Top 5 Vendidos en Japón"
   ]
  },
  {
   "cell_type": "code",
   "execution_count": 18,
   "metadata": {
    "colab": {
     "base_uri": "https://localhost:8080/",
     "height": 206
    },
    "id": "1828ls6qASI6",
    "outputId": "681ec351-8da9-478d-ad6b-8ffa432ca067"
   },
   "outputs": [
    {
     "data": {
      "text/html": [
       "<div>\n",
       "<style scoped>\n",
       "    .dataframe tbody tr th:only-of-type {\n",
       "        vertical-align: middle;\n",
       "    }\n",
       "\n",
       "    .dataframe tbody tr th {\n",
       "        vertical-align: top;\n",
       "    }\n",
       "\n",
       "    .dataframe thead th {\n",
       "        text-align: right;\n",
       "    }\n",
       "</style>\n",
       "<table border=\"1\" class=\"dataframe\">\n",
       "  <thead>\n",
       "    <tr style=\"text-align: right;\">\n",
       "      <th></th>\n",
       "      <th>Name</th>\n",
       "      <th>Platform</th>\n",
       "      <th>Year</th>\n",
       "      <th>Genre</th>\n",
       "      <th>Publisher</th>\n",
       "      <th>JP_Sales</th>\n",
       "    </tr>\n",
       "  </thead>\n",
       "  <tbody>\n",
       "    <tr>\n",
       "      <th>1</th>\n",
       "      <td>Pokemon Red/Pokemon Blue</td>\n",
       "      <td>GB</td>\n",
       "      <td>1996</td>\n",
       "      <td>Role-Playing</td>\n",
       "      <td>Nintendo</td>\n",
       "      <td>10.22</td>\n",
       "    </tr>\n",
       "    <tr>\n",
       "      <th>2</th>\n",
       "      <td>Pokemon Gold/Pokemon Silver</td>\n",
       "      <td>GB</td>\n",
       "      <td>1999</td>\n",
       "      <td>Role-Playing</td>\n",
       "      <td>Nintendo</td>\n",
       "      <td>7.20</td>\n",
       "    </tr>\n",
       "    <tr>\n",
       "      <th>3</th>\n",
       "      <td>Super Mario Bros.</td>\n",
       "      <td>NES</td>\n",
       "      <td>1985</td>\n",
       "      <td>Platform</td>\n",
       "      <td>Nintendo</td>\n",
       "      <td>6.81</td>\n",
       "    </tr>\n",
       "    <tr>\n",
       "      <th>4</th>\n",
       "      <td>New Super Mario Bros.</td>\n",
       "      <td>DS</td>\n",
       "      <td>2006</td>\n",
       "      <td>Platform</td>\n",
       "      <td>Nintendo</td>\n",
       "      <td>6.50</td>\n",
       "    </tr>\n",
       "    <tr>\n",
       "      <th>5</th>\n",
       "      <td>Pokemon Diamond/Pokemon Pearl</td>\n",
       "      <td>DS</td>\n",
       "      <td>2006</td>\n",
       "      <td>Role-Playing</td>\n",
       "      <td>Nintendo</td>\n",
       "      <td>6.04</td>\n",
       "    </tr>\n",
       "  </tbody>\n",
       "</table>\n",
       "</div>"
      ],
      "text/plain": [
       "                            Name Platform  Year         Genre Publisher  \\\n",
       "1       Pokemon Red/Pokemon Blue       GB  1996  Role-Playing  Nintendo   \n",
       "2    Pokemon Gold/Pokemon Silver       GB  1999  Role-Playing  Nintendo   \n",
       "3              Super Mario Bros.      NES  1985      Platform  Nintendo   \n",
       "4          New Super Mario Bros.       DS  2006      Platform  Nintendo   \n",
       "5  Pokemon Diamond/Pokemon Pearl       DS  2006  Role-Playing  Nintendo   \n",
       "\n",
       "   JP_Sales  \n",
       "1     10.22  \n",
       "2      7.20  \n",
       "3      6.81  \n",
       "4      6.50  \n",
       "5      6.04  "
      ]
     },
     "execution_count": 18,
     "metadata": {},
     "output_type": "execute_result"
    }
   ],
   "source": [
    "top5jp = top5_region('JP_Sales')\n",
    "top5jp"
   ]
  },
  {
   "cell_type": "markdown",
   "metadata": {
    "id": "OKXEw1AuMRn9"
   },
   "source": [
    "## Top 5 Vendidos en Norteamérica"
   ]
  },
  {
   "cell_type": "code",
   "execution_count": 19,
   "metadata": {
    "colab": {
     "base_uri": "https://localhost:8080/",
     "height": 206
    },
    "id": "xmXa0bvEH1Ev",
    "outputId": "b4b239ad-3dd3-4fd4-b660-44d42c591a40"
   },
   "outputs": [
    {
     "data": {
      "text/html": [
       "<div>\n",
       "<style scoped>\n",
       "    .dataframe tbody tr th:only-of-type {\n",
       "        vertical-align: middle;\n",
       "    }\n",
       "\n",
       "    .dataframe tbody tr th {\n",
       "        vertical-align: top;\n",
       "    }\n",
       "\n",
       "    .dataframe thead th {\n",
       "        text-align: right;\n",
       "    }\n",
       "</style>\n",
       "<table border=\"1\" class=\"dataframe\">\n",
       "  <thead>\n",
       "    <tr style=\"text-align: right;\">\n",
       "      <th></th>\n",
       "      <th>Name</th>\n",
       "      <th>Platform</th>\n",
       "      <th>Year</th>\n",
       "      <th>Genre</th>\n",
       "      <th>Publisher</th>\n",
       "      <th>NA_Sales</th>\n",
       "    </tr>\n",
       "  </thead>\n",
       "  <tbody>\n",
       "    <tr>\n",
       "      <th>1</th>\n",
       "      <td>Wii Sports</td>\n",
       "      <td>Wii</td>\n",
       "      <td>2006</td>\n",
       "      <td>Sports</td>\n",
       "      <td>Nintendo</td>\n",
       "      <td>41.49</td>\n",
       "    </tr>\n",
       "    <tr>\n",
       "      <th>2</th>\n",
       "      <td>Super Mario Bros.</td>\n",
       "      <td>NES</td>\n",
       "      <td>1985</td>\n",
       "      <td>Platform</td>\n",
       "      <td>Nintendo</td>\n",
       "      <td>29.08</td>\n",
       "    </tr>\n",
       "    <tr>\n",
       "      <th>3</th>\n",
       "      <td>Duck Hunt</td>\n",
       "      <td>NES</td>\n",
       "      <td>1984</td>\n",
       "      <td>Shooter</td>\n",
       "      <td>Nintendo</td>\n",
       "      <td>26.93</td>\n",
       "    </tr>\n",
       "    <tr>\n",
       "      <th>4</th>\n",
       "      <td>Tetris</td>\n",
       "      <td>GB</td>\n",
       "      <td>1989</td>\n",
       "      <td>Puzzle</td>\n",
       "      <td>Nintendo</td>\n",
       "      <td>23.20</td>\n",
       "    </tr>\n",
       "    <tr>\n",
       "      <th>5</th>\n",
       "      <td>Mario Kart Wii</td>\n",
       "      <td>Wii</td>\n",
       "      <td>2008</td>\n",
       "      <td>Racing</td>\n",
       "      <td>Nintendo</td>\n",
       "      <td>15.85</td>\n",
       "    </tr>\n",
       "  </tbody>\n",
       "</table>\n",
       "</div>"
      ],
      "text/plain": [
       "                Name Platform  Year     Genre Publisher  NA_Sales\n",
       "1         Wii Sports      Wii  2006    Sports  Nintendo     41.49\n",
       "2  Super Mario Bros.      NES  1985  Platform  Nintendo     29.08\n",
       "3          Duck Hunt      NES  1984   Shooter  Nintendo     26.93\n",
       "4             Tetris       GB  1989    Puzzle  Nintendo     23.20\n",
       "5     Mario Kart Wii      Wii  2008    Racing  Nintendo     15.85"
      ]
     },
     "execution_count": 19,
     "metadata": {},
     "output_type": "execute_result"
    }
   ],
   "source": [
    "# @title\n",
    "top5na = top5_region('NA_Sales')\n",
    "top5na"
   ]
  },
  {
   "cell_type": "markdown",
   "metadata": {
    "id": "hExrDCEIP67_"
   },
   "source": [
    "## Títulos más vendidos por región"
   ]
  },
  {
   "cell_type": "markdown",
   "metadata": {
    "id": "I2hgRc1IryXZ"
   },
   "source": [
    "## Europa"
   ]
  },
  {
   "cell_type": "code",
   "execution_count": 20,
   "metadata": {
    "colab": {
     "base_uri": "https://localhost:8080/",
     "height": 241
    },
    "id": "7JHyYiHfQFFr",
    "outputId": "137cb30a-690e-4007-bee8-a24e09e421f8"
   },
   "outputs": [
    {
     "data": {
      "text/plain": [
       "Name         Wii Sports\n",
       "Platform            Wii\n",
       "Year               2006\n",
       "Genre            Sports\n",
       "Publisher      Nintendo\n",
       "Name: 0, dtype: object"
      ]
     },
     "execution_count": 20,
     "metadata": {},
     "output_type": "execute_result"
    }
   ],
   "source": [
    "def title_by_region(region):\n",
    "    temp = vgsales.loc[vgsales[region].idxmax(),['Name','Platform','Year','Genre','Publisher']]\n",
    "    return temp\n",
    "\n",
    "title_by_region('EU_Sales')\n"
   ]
  },
  {
   "cell_type": "markdown",
   "metadata": {
    "id": "_45fqKggr3w9"
   },
   "source": [
    "## Japón"
   ]
  },
  {
   "cell_type": "code",
   "execution_count": 21,
   "metadata": {
    "colab": {
     "base_uri": "https://localhost:8080/",
     "height": 241
    },
    "id": "cYeNhWzXr6bb",
    "outputId": "71028376-706f-4cf7-ba7d-661864397855"
   },
   "outputs": [
    {
     "data": {
      "text/plain": [
       "Name         Pokemon Red/Pokemon Blue\n",
       "Platform                           GB\n",
       "Year                             1996\n",
       "Genre                    Role-Playing\n",
       "Publisher                    Nintendo\n",
       "Name: 4, dtype: object"
      ]
     },
     "execution_count": 21,
     "metadata": {},
     "output_type": "execute_result"
    }
   ],
   "source": [
    "title_by_region('JP_Sales')"
   ]
  },
  {
   "cell_type": "markdown",
   "metadata": {
    "id": "p3tRMHcWsvl8"
   },
   "source": [
    "## Norteamérica"
   ]
  },
  {
   "cell_type": "code",
   "execution_count": 22,
   "metadata": {
    "colab": {
     "base_uri": "https://localhost:8080/",
     "height": 241
    },
    "id": "UVluAHerszbl",
    "outputId": "99a9157f-11c5-47ee-8f80-c89fab4db8ee"
   },
   "outputs": [
    {
     "data": {
      "text/plain": [
       "Name         Wii Sports\n",
       "Platform            Wii\n",
       "Year               2006\n",
       "Genre            Sports\n",
       "Publisher      Nintendo\n",
       "Name: 0, dtype: object"
      ]
     },
     "execution_count": 22,
     "metadata": {},
     "output_type": "execute_result"
    }
   ],
   "source": [
    "title_by_region('NA_Sales')"
   ]
  },
  {
   "cell_type": "markdown",
   "metadata": {
    "id": "cwwPaR46QaF6"
   },
   "source": [
    "## Géneros más vendidos por región"
   ]
  },
  {
   "cell_type": "markdown",
   "metadata": {
    "id": "Ly5BlbwV4olG"
   },
   "source": [
    "## Norteamérica"
   ]
  },
  {
   "cell_type": "code",
   "execution_count": 23,
   "metadata": {
    "colab": {
     "base_uri": "https://localhost:8080/",
     "height": 406
    },
    "id": "HVUECpIeQgP5",
    "outputId": "37eac6f0-0284-4abf-e695-61c1b653af3d"
   },
   "outputs": [
    {
     "data": {
      "image/png": "[encoded data removed]",
      "text/plain": [
       "<Figure size 640x480 with 1 Axes>"
      ]
     },
     "metadata": {},
     "output_type": "display_data"
    }
   ],
   "source": [
    "gen_by_reg = vgsales.groupby('Genre').sum()\n",
    "gen_by_reg = gen_by_reg.loc[:,['NA_Sales','JP_Sales','EU_Sales']]\n",
    "na = gen_by_reg['NA_Sales']\n",
    "na.sort_values(ascending=False)\n",
    "na = na[0:5]\n",
    "\n",
    "plt.pie(na,labels=na.index)\n",
    "plt.show()"
   ]
  },
  {
   "cell_type": "markdown",
   "metadata": {
    "id": "cmq8eEjw4tqj"
   },
   "source": [
    "## Japón"
   ]
  },
  {
   "cell_type": "code",
   "execution_count": 24,
   "metadata": {
    "colab": {
     "base_uri": "https://localhost:8080/",
     "height": 406
    },
    "id": "FTv3XgJUwOaC",
    "outputId": "02185b34-3189-4888-b814-298ad334283c"
   },
   "outputs": [
    {
     "data": {
      "image/png": "[encoded data removed]",
      "text/plain": [
       "<Figure size 640x480 with 1 Axes>"
      ]
     },
     "metadata": {},
     "output_type": "display_data"
    }
   ],
   "source": [
    "jp = gen_by_reg['JP_Sales']\n",
    "jp.sort_values(ascending=False)\n",
    "jp = jp[0:5]\n",
    "plt.pie(jp,labels= jp.index)\n",
    "plt.show()"
   ]
  },
  {
   "cell_type": "markdown",
   "metadata": {
    "id": "S5dswLCY4zBL"
   },
   "source": [
    "## Europa"
   ]
  },
  {
   "cell_type": "code",
   "execution_count": 25,
   "metadata": {
    "colab": {
     "base_uri": "https://localhost:8080/",
     "height": 406
    },
    "id": "lLFIux7DwOmP",
    "outputId": "2d765ada-8954-4e2d-8ed2-a75bc3740a1a"
   },
   "outputs": [
    {
     "data": {
      "image/png": "[encoded data removed]",
      "text/plain": [
       "<Figure size 640x480 with 1 Axes>"
      ]
     },
     "metadata": {},
     "output_type": "display_data"
    }
   ],
   "source": [
    "eu = gen_by_reg['EU_Sales']\n",
    "eu.sort_values(ascending=False)\n",
    "eu = eu[0:5]\n",
    "plt.pie(eu,labels=eu.index)\n",
    "plt.show()\n"
   ]
  },
  {
   "cell_type": "markdown",
   "metadata": {
    "id": "25UZ3CkHH6aK"
   },
   "source": [
    "# 6.Análisis por Empresa"
   ]
  },
  {
   "cell_type": "markdown",
   "metadata": {
    "id": "TdBGyO20zPdc"
   },
   "source": [
    "## Empresas con mayores ventas"
   ]
  },
  {
   "cell_type": "code",
   "execution_count": 26,
   "metadata": {
    "colab": {
     "base_uri": "https://localhost:8080/",
     "height": 206
    },
    "id": "9_W2I3i-uD66",
    "outputId": "667d686f-bf68-427e-fd45-deabad2bba69"
   },
   "outputs": [
    {
     "data": {
      "text/html": [
       "<div>\n",
       "<style scoped>\n",
       "    .dataframe tbody tr th:only-of-type {\n",
       "        vertical-align: middle;\n",
       "    }\n",
       "\n",
       "    .dataframe tbody tr th {\n",
       "        vertical-align: top;\n",
       "    }\n",
       "\n",
       "    .dataframe thead th {\n",
       "        text-align: right;\n",
       "    }\n",
       "</style>\n",
       "<table border=\"1\" class=\"dataframe\">\n",
       "  <thead>\n",
       "    <tr style=\"text-align: right;\">\n",
       "      <th></th>\n",
       "      <th>Empresa</th>\n",
       "      <th>Ventas Totales</th>\n",
       "    </tr>\n",
       "  </thead>\n",
       "  <tbody>\n",
       "    <tr>\n",
       "      <th>0</th>\n",
       "      <td>Nintendo</td>\n",
       "      <td>1784.43</td>\n",
       "    </tr>\n",
       "    <tr>\n",
       "      <th>1</th>\n",
       "      <td>Electronic Arts</td>\n",
       "      <td>1093.39</td>\n",
       "    </tr>\n",
       "    <tr>\n",
       "      <th>2</th>\n",
       "      <td>Activision</td>\n",
       "      <td>721.41</td>\n",
       "    </tr>\n",
       "    <tr>\n",
       "      <th>3</th>\n",
       "      <td>Sony Computer Entertainment</td>\n",
       "      <td>607.28</td>\n",
       "    </tr>\n",
       "    <tr>\n",
       "      <th>4</th>\n",
       "      <td>Ubisoft</td>\n",
       "      <td>473.54</td>\n",
       "    </tr>\n",
       "  </tbody>\n",
       "</table>\n",
       "</div>"
      ],
      "text/plain": [
       "                       Empresa  Ventas Totales\n",
       "0                     Nintendo         1784.43\n",
       "1              Electronic Arts         1093.39\n",
       "2                   Activision          721.41\n",
       "3  Sony Computer Entertainment          607.28\n",
       "4                      Ubisoft          473.54"
      ]
     },
     "execution_count": 26,
     "metadata": {},
     "output_type": "execute_result"
    }
   ],
   "source": [
    "publisher_best = vgsales.groupby('Publisher')['Global_Sales'].sum().reset_index()\n",
    "publisher_best = publisher_best.sort_values(by='Global_Sales',ascending=False, ignore_index=True)\n",
    "publisher_best = publisher_best.rename(columns={'Publisher': 'Empresa', 'Global_Sales': 'Ventas Totales'})\n",
    "publisher_best[0:5]\n"
   ]
  },
  {
   "cell_type": "code",
   "execution_count": 27,
   "metadata": {
    "colab": {
     "base_uri": "https://localhost:8080/",
     "height": 406
    },
    "id": "UkyA1OVJuZje",
    "outputId": "4e1c854c-fea7-4142-e817-2c116592e0b1"
   },
   "outputs": [
    {
     "data": {
      "image/png": "[encoded data removed]",
      "text/plain": [
       "<Figure size 640x480 with 1 Axes>"
      ]
     },
     "metadata": {},
     "output_type": "display_data"
    }
   ],
   "source": [
    "y = publisher_best['Ventas Totales'][0:5]\n",
    "plt.pie(y, labels=publisher_best['Empresa'][0:5])\n",
    "plt.show()"
   ]
  },
  {
   "cell_type": "markdown",
   "metadata": {
    "id": "9LpgYyslFAcc"
   },
   "source": [
    "## Títulos más exitosos de cada empresa"
   ]
  },
  {
   "cell_type": "markdown",
   "metadata": {
    "id": "6uw6DFzSQn1Q"
   },
   "source": [
    "### Nintendo"
   ]
  },
  {
   "cell_type": "code",
   "execution_count": 28,
   "metadata": {
    "colab": {
     "base_uri": "https://localhost:8080/",
     "height": 241
    },
    "id": "7sPjk1NtFHPP",
    "outputId": "599059dc-97f7-488d-a28e-770f7e7cd7ef"
   },
   "outputs": [
    {
     "data": {
      "text/plain": [
       "Name            Wii Sports\n",
       "Platform               Wii\n",
       "Genre               Sports\n",
       "Publisher         Nintendo\n",
       "Global_Sales         82.74\n",
       "Name: 0, dtype: object"
      ]
     },
     "execution_count": 28,
     "metadata": {},
     "output_type": "execute_result"
    }
   ],
   "source": [
    "def best_by_company(publisher):\n",
    "    temp = vgsales.loc[vgsales['Publisher'] == publisher,:]\n",
    "    temp = temp.sort_values(by='Global_Sales', ascending=False)\n",
    "    temp = temp.loc[temp.index[0],['Name','Platform','Genre','Publisher','Global_Sales']]\n",
    "    return temp\n",
    "\n",
    "best_by_company('Nintendo')"
   ]
  },
  {
   "cell_type": "markdown",
   "metadata": {
    "id": "EgJuNK2lQli2"
   },
   "source": [
    "### Electronic Arts"
   ]
  },
  {
   "cell_type": "code",
   "execution_count": 29,
   "metadata": {
    "colab": {
     "base_uri": "https://localhost:8080/",
     "height": 241
    },
    "id": "-KYCvlrsFs-9",
    "outputId": "2ea5ea76-d2f8-46e2-e5a6-1f49c59ea058"
   },
   "outputs": [
    {
     "data": {
      "text/plain": [
       "Name                    FIFA 16\n",
       "Platform                    PS4\n",
       "Genre                    Sports\n",
       "Publisher       Electronic Arts\n",
       "Global_Sales               8.49\n",
       "Name: 77, dtype: object"
      ]
     },
     "execution_count": 29,
     "metadata": {},
     "output_type": "execute_result"
    }
   ],
   "source": [
    "best_by_company('Electronic Arts')"
   ]
  },
  {
   "cell_type": "markdown",
   "metadata": {
    "id": "Dt3CUYzHQwIv"
   },
   "source": [
    "### Activision"
   ]
  },
  {
   "cell_type": "code",
   "execution_count": 30,
   "metadata": {
    "colab": {
     "base_uri": "https://localhost:8080/",
     "height": 241
    },
    "id": "8zGe8tO2I_hW",
    "outputId": "e759350c-70e2-461e-d363-759a06f597d0"
   },
   "outputs": [
    {
     "data": {
      "text/plain": [
       "Name            Call of Duty: Modern Warfare 3\n",
       "Platform                                  X360\n",
       "Genre                                  Shooter\n",
       "Publisher                           Activision\n",
       "Global_Sales                             14.76\n",
       "Name: 29, dtype: object"
      ]
     },
     "execution_count": 30,
     "metadata": {},
     "output_type": "execute_result"
    }
   ],
   "source": [
    "best_by_company('Activision')"
   ]
  },
  {
   "cell_type": "markdown",
   "metadata": {
    "id": "dVcm6oN2Qzu6"
   },
   "source": [
    "### Sony"
   ]
  },
  {
   "cell_type": "code",
   "execution_count": 31,
   "metadata": {
    "colab": {
     "base_uri": "https://localhost:8080/",
     "height": 241
    },
    "id": "5cN9e5paJ38b",
    "outputId": "3a5e44df-e58b-4056-9608-0e258acaaa9b"
   },
   "outputs": [
    {
     "data": {
      "text/plain": [
       "Name                 Gran Turismo 3: A-Spec\n",
       "Platform                                PS2\n",
       "Genre                                Racing\n",
       "Publisher       Sony Computer Entertainment\n",
       "Global_Sales                          14.98\n",
       "Name: 28, dtype: object"
      ]
     },
     "execution_count": 31,
     "metadata": {},
     "output_type": "execute_result"
    }
   ],
   "source": [
    "best_by_company('Sony Computer Entertainment')"
   ]
  },
  {
   "cell_type": "markdown",
   "metadata": {
    "id": "3cEuflLSQ2k3"
   },
   "source": [
    "### Ubisoft"
   ]
  },
  {
   "cell_type": "code",
   "execution_count": 32,
   "metadata": {
    "colab": {
     "base_uri": "https://localhost:8080/",
     "height": 241
    },
    "id": "RH2z1jUDJ4eP",
    "outputId": "7e8cf492-3c88-4b58-de10-8a587ae52878"
   },
   "outputs": [
    {
     "data": {
      "text/plain": [
       "Name            Just Dance 3\n",
       "Platform                 Wii\n",
       "Genre                   Misc\n",
       "Publisher            Ubisoft\n",
       "Global_Sales           10.26\n",
       "Name: 60, dtype: object"
      ]
     },
     "execution_count": 32,
     "metadata": {},
     "output_type": "execute_result"
    }
   ],
   "source": [
    "best_by_company('Ubisoft')"
   ]
  }
 ],
 "metadata": {
  "colab": {
   "provenance": [],
   "toc_visible": true
  },
  "kernelspec": {
   "display_name": "Python 3 (ipykernel)",
   "language": "python",
   "name": "python3"
  },
  "language_info": {
   "codemirror_mode": {
    "name": "ipython",
    "version": 3
   },
   "file_extension": ".py",
   "mimetype": "text/x-python",
   "name": "python",
   "nbconvert_exporter": "python",
   "pygments_lexer": "ipython3",
   "version": "3.12.2"
  }
 },
 "nbformat": 4,
 "nbformat_minor": 4
}
